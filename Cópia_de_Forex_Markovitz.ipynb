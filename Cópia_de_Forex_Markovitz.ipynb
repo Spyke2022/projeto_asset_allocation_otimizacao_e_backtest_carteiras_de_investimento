{
  "nbformat": 4,
  "nbformat_minor": 0,
  "metadata": {
    "colab": {
      "provenance": [],
      "authorship_tag": "ABX9TyNmKSjEDtciFhSVbAZ28GDW",
      "include_colab_link": true
    },
    "kernelspec": {
      "name": "python3",
      "display_name": "Python 3"
    },
    "language_info": {
      "name": "python"
    }
  },
  "cells": [
    {
      "cell_type": "markdown",
      "metadata": {
        "id": "view-in-github",
        "colab_type": "text"
      },
      "source": [
        "<a href=\"https://colab.research.google.com/github/Spyke2022/projeto_asset_allocation_otimizacao_e_backtest_carteiras_de_investimento/blob/main/C%C3%B3pia_de_Forex_Markovitz.ipynb\" target=\"_parent\"><img src=\"https://colab.research.google.com/assets/colab-badge.svg\" alt=\"Open In Colab\"/></a>"
      ]
    },
    {
      "cell_type": "markdown",
      "source": [
        "#<font color=blue> CARTERIA EFICIENTE DE FOREX COM MARKOVITZ"
      ],
      "metadata": {
        "id": "tA_FirEmxGU9"
      }
    },
    {
      "cell_type": "code",
      "execution_count": null,
      "metadata": {
        "id": "5vX1r3MzxD94"
      },
      "outputs": [],
      "source": [
        "# Importando bibliotecas necessárias\n",
        "import numpy as np\n",
        "import pandas as pd\n",
        "import matplotlib.pyplot as plt\n",
        "\n",
        "# Suponha que temos os retornos esperados e a matriz de covariância das moedas Forex\n",
        "# Substitua esses valores com os dados reais\n",
        "returns = pd.DataFrame({\n",
        "    'Moeda_A': [0.05, 0.07, 0.03],\n",
        "    'Moeda_B': [0.06, 0.08, 0.02],\n",
        "    'Moeda_C': [0.04, 0.06, 0.01]\n",
        "})\n",
        "\n",
        "cov_matrix = np.array([\n",
        "    [0.001, 0.0006, 0.0003],\n",
        "    [0.0006, 0.001, 0.0002],\n",
        "    [0.0003, 0.0002, 0.0005]\n",
        "])\n",
        "\n",
        "# Número de ativos na carteira\n",
        "num_assets = len(returns.columns)\n",
        "\n",
        "# Gerando pesos aleatórios iniciais\n",
        "weights = np.random.random(num_assets)\n",
        "weights /= np.sum(weights)\n",
        "\n",
        "# Calculando o retorno esperado e volatilidade da carteira\n",
        "port_return = np.sum(returns.mean() * weights) * 252\n",
        "port_volatility = np.sqrt(np.dot(weights.T, np.dot(cov_matrix, weights))) * np.sqrt(252)\n",
        "\n",
        "# Exibindo o retorno e volatilidade da carteira\n",
        "print(f'Retorno Esperado da Carteira: {port_return:.2%}')\n",
        "print(f'Volatilidade da Carteira: {port_volatility:.2%}')\n",
        "\n",
        "# Repetindo o processo várias vezes para obter a fronteira eficiente\n",
        "num_portfolios = 1000\n",
        "results = np.zeros((3, num_portfolios))\n",
        "\n",
        "for i in range(num_portfolios):\n",
        "    # Gerando pesos aleatórios\n",
        "    weights = np.random.random(num_assets)\n",
        "    weights /= np.sum(weights)\n",
        "\n",
        "    # Calculando retorno e volatilidade\n",
        "    portfolio_return = np.sum(returns.mean() * weights) * 252\n",
        "    portfolio_volatility = np.sqrt(np.dot(weights.T, np.dot(cov_matrix, weights))) * np.sqrt(252)\n",
        "\n",
        "    # Armazenando os resultados\n",
        "    results[0,i] = portfolio_return\n",
        "    results[1,i] = portfolio_volatility\n",
        "    # Sharpe Ratio como terceira métrica\n",
        "    results[2,i] = results[0,i] / results[1,i]\n",
        "\n",
        "# Convertendo os resultados em um DataFrame\n",
        "results_df = pd.DataFrame(results.T, columns=['Retorno', 'Volatilidade', 'Sharpe Ratio'])\n",
        "\n",
        "# Plotando a fronteira eficiente\n",
        "plt.figure(figsize=(10, 6))\n",
        "plt.scatter(results_df['Volatilidade'], results_df['Retorno'], c=results_df['Sharpe Ratio'], cmap='viridis', marker='o')\n",
        "plt.colorbar(label='Sharpe Ratio')\n",
        "plt.xlabel('Volatilidade')\n",
        "plt.ylabel('Retorno')\n",
        "plt.title('Fronteira Eficiente de Markowitz')\n",
        "plt.show()\n"
      ]
    }
  ]
}